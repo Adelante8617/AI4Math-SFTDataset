{
 "cells": [
  {
   "cell_type": "code",
   "execution_count": 19,
   "metadata": {},
   "outputs": [
    {
     "name": "stdout",
     "output_type": "stream",
     "text": [
      "[]\n"
     ]
    },
    {
     "data": {
      "text/plain": [
       "[]"
      ]
     },
     "execution_count": 19,
     "metadata": {},
     "output_type": "execute_result"
    }
   ],
   "source": [
    "import re\n",
    "from openai import AsyncOpenAI\n",
    "import asyncio\n",
    "\n",
    "# 要处理的书所在地址\n",
    "# （这书怎么打开后是信息论x）\n",
    "filepath = \"md/md/123_代数学引论 第一卷.md\"\n",
    "\n",
    "with open(filepath, \"r\") as f:\n",
    "    test_block = f.read()\n",
    "\n",
    "def check_string_format(s):\n",
    "    # 检查格式的函数，若符合格式则返回真\n",
    "    # 用于排除 只是提到定理二字的情况\n",
    "    # 定义正则表达式：2个汉字（定理/引理/命题）+数字.数字.数字 \n",
    "    # 这本书里面的模式都是这样的，例如5.1.4\n",
    "    # 推广到其它书应该需要修改\n",
    "    pattern = r'^([\\u4e00-\\u9fa5]{2}\\s*\\d+\\.\\d+\\.\\d+)'\n",
    "    match = re.match(pattern, s)\n",
    "    return bool(match)\n",
    "\n",
    "def extract_string_format(s):\n",
    "    # 提取命题编号串 例如 定理5.1.4 \n",
    "    pattern = r'^([\\u4e00-\\u9fa5]{2}\\s*\\d+\\.\\d+\\.\\d+)'\n",
    "    match = re.search(pattern, s)\n",
    "    # 返回匹配结果\n",
    "    if match:\n",
    "        return match.group(0).replace(\" \",\"\")\n",
    "    return None\n",
    "\n",
    "# 暂时列出的关键词\n",
    "keyword = ['定理', \"引理\", \"命题\", \"推论\"]\n",
    "# 获取的命题列表\n",
    "question_list = []\n",
    "# 记录出现过的命题编号\n",
    "question_id_set = set()\n",
    "\n",
    "# 遍历文本文件提取\n",
    "for char_idx in range(len(test_block)):\n",
    "    # 前两个字是关键词 且 检查格式正确\n",
    "    if test_block[char_idx:char_idx+2] in keyword and check_string_format(test_block[char_idx:char_idx+10]):\n",
    "        # 提取出命题编号\n",
    "        que_id = extract_string_format(test_block[char_idx:char_idx+10])\n",
    "        # 第一次出现的才记录\n",
    "        if que_id not in question_id_set:\n",
    "            question_id_set.add(que_id)\n",
    "            question_list.append(test_block[char_idx:char_idx+1000])\n",
    "\n",
    "\n",
    "# 原来写了个文件，现在直接写成一个字符串在下面\n",
    "prompt = '''\n",
    "我将为你提供一个文本块，它是一个数学定理以及对应的证明。在证明后可能存在额外的冗余文本。\n",
    "你需要将定理本身提取出来，然后找出对应的证明过程，然后忽略剩余的冗余文本。\n",
    "如果没有证明过程，则在证明过程处写入null。\n",
    "以{question: \"#定理内容\", prove:\"#证明过程\"}的格式返回。\n",
    "\n",
    "文本块：\n",
    "'''\n",
    "\n",
    "# 都是原来的api\n",
    "async def async_query_openai(query_message):\n",
    "    client = AsyncOpenAI(\n",
    "        api_key=\"sk-fbd3237c46614929830d86904076329e\",\n",
    "        base_url=\"https://api.deepseek.com\"\n",
    "    )\n",
    "    response = await client.chat.completions.create(\n",
    "        model=\"deepseek-chat\",\n",
    "        temperature=0.01,\n",
    "        messages=[\n",
    "            {\"role\": \"system\", \"content\": \"你是一个优秀的数学助理。\"},\n",
    "            {\"role\": \"user\", \"content\": query_message},\n",
    "        ],\n",
    "        stream=False,\n",
    "        frequency_penalty=0.3\n",
    "    )\n",
    "    return response.choices[0].message.content\n",
    "\n",
    "async def async_process_query(messages):\n",
    "    results = await asyncio.gather(*(async_query_openai(m) for m in messages))\n",
    "    return results\n",
    "\n",
    "# 小批量测试 拿了前十个命题\n",
    "prompt_and_que = [prompt+que for que in question_list[0:10]]\n",
    "\n",
    "async def main():\n",
    "    results = await async_process_query(prompt_and_que)\n",
    "    return results\n",
    "\n",
    "import nest_asyncio\n",
    "nest_asyncio.apply()\n",
    "results = await main()\n",
    "results"
   ]
  },
  {
   "cell_type": "code",
   "execution_count": 2,
   "metadata": {},
   "outputs": [
    {
     "ename": "IndexError",
     "evalue": "list index out of range",
     "output_type": "error",
     "traceback": [
      "\u001b[1;31m---------------------------------------------------------------------------\u001b[0m",
      "\u001b[1;31mIndexError\u001b[0m                                Traceback (most recent call last)",
      "Cell \u001b[1;32mIn[2], line 1\u001b[0m\n\u001b[1;32m----> 1\u001b[0m takeone \u001b[38;5;241m=\u001b[39m results[\u001b[38;5;241m0\u001b[39m]\n\u001b[0;32m      2\u001b[0m wrongwords \u001b[38;5;241m=\u001b[39m [\u001b[38;5;124m\"\u001b[39m\u001b[38;5;130;01m\\\\\u001b[39;00m\u001b[38;5;124m(\u001b[39m\u001b[38;5;124m\"\u001b[39m,\u001b[38;5;124m\"\u001b[39m\u001b[38;5;130;01m\\\\\u001b[39;00m\u001b[38;5;124m)\u001b[39m\u001b[38;5;124m\"\u001b[39m, \u001b[38;5;124m\"\u001b[39m\u001b[38;5;130;01m\\\\\u001b[39;00m\u001b[38;5;124m[\u001b[39m\u001b[38;5;124m\"\u001b[39m, \u001b[38;5;124m\"\u001b[39m\u001b[38;5;130;01m\\\\\u001b[39;00m\u001b[38;5;124m]\u001b[39m\u001b[38;5;124m\"\u001b[39m]\n\u001b[0;32m      3\u001b[0m \u001b[38;5;28;01mfor\u001b[39;00m rep \u001b[38;5;129;01min\u001b[39;00m wrongwords:\n",
      "\u001b[1;31mIndexError\u001b[0m: list index out of range"
     ]
    }
   ],
   "source": [
    "takeone = results[0]\n",
    "wrongwords = [\"\\\\(\",\"\\\\)\", \"\\\\[\", \"\\\\]\"]\n",
    "for rep in wrongwords:\n",
    "    takeone = takeone.replace(rep,\"\")\n",
    "\n",
    "print(takeone)"
   ]
  },
  {
   "cell_type": "markdown",
   "metadata": {},
   "source": [
    "输出内容复制如下\n",
    "\n",
    "除了加上\\$ 符号以及对命题和证明分行之外没有任何修改 \n",
    "\n",
    "$question: \"定理2.1.1设x>0,则 \\ln x \\leq x-1, 且仅当x=1时,等式成立.\", $\n",
    "\n",
    "\n",
    "$prove:\"证当0<t\\leq1时,\\frac{1}{t}\\geq1,故 {\\int}_{x}^{1}\\frac{\\mathrm{d}t}{t}\\geq{\\int}_{x}^{1}\\mathrm{\\;d}t,\\;0<x\\leq1. \\left(*\\right)算出上式积分值即为本定理的不等式,区间为0<x\\leq1.若t\\geq1,即\\frac{1}{t}\\leq1, {\\int}_{1}^{x}\\frac{\\mathrm{d}t}{t}\\leq{\\int}_{1}^{x}\\mathrm{\\;d}t,\\;x\\geq1. \\left({**}\\right)同样可得定理的不等式.除非t=1,\\frac{1}{t}不等于1.当x\\neq1时,不等式\\left(*\\right),\\left({**}\\right)满足严格的不等关系.当x=1时,该式两侧均为0,于是定理得到证明.\"$\n"
   ]
  },
  {
   "cell_type": "code",
   "execution_count": 4,
   "metadata": {},
   "outputs": [
    {
     "name": "stdout",
     "output_type": "stream",
     "text": [
      "{question: \"推论2.2.1设X和Y为两个随机变量,则H\\left({X\\midY}\\right)\\leqH\\left(X\\right),其中等式成立的充要条件是X和Y相互独立.\", prove:\"null\"}\n"
     ]
    }
   ],
   "source": [
    "takeone = results[2]\n",
    "wrongwords = [\"\\\\(\",\"\\\\)\", \"\\\\[\", \"\\\\]\"]\n",
    "for rep in wrongwords:\n",
    "    takeone = takeone.replace(rep,\"\")\n",
    "\n",
    "print(takeone)"
   ]
  },
  {
   "cell_type": "markdown",
   "metadata": {},
   "source": [
    "$question: \"推论2.2.1设X和Y为两个随机变量,则H\\left({X\\mid Y}\\right)\\leq H\\left(X\\right),其中等式成立的充要条件是X和Y相互独立.\"$, prove:\"null\"$"
   ]
  }
 ],
 "metadata": {
  "kernelspec": {
   "display_name": "base",
   "language": "python",
   "name": "python3"
  },
  "language_info": {
   "codemirror_mode": {
    "name": "ipython",
    "version": 3
   },
   "file_extension": ".py",
   "mimetype": "text/x-python",
   "name": "python",
   "nbconvert_exporter": "python",
   "pygments_lexer": "ipython3",
   "version": "3.11.5"
  }
 },
 "nbformat": 4,
 "nbformat_minor": 2
}
