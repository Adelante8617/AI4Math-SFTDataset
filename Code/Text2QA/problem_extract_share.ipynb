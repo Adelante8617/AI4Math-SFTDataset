{
  "nbformat": 4,
  "nbformat_minor": 0,
  "metadata": {
    "colab": {
      "provenance": []
    },
    "kernelspec": {
      "name": "python3",
      "display_name": "Python 3"
    },
    "language_info": {
      "name": "python"
    }
  },
  "cells": [
    {
      "cell_type": "code",
      "source": [
        "!pip install openai==0.28 jsonlines datasets ptcompletion"
      ],
      "metadata": {
        "id": "SlPL7jEReWNG"
      },
      "execution_count": null,
      "outputs": []
    },
    {
      "cell_type": "code",
      "source": [
        "!huggingface-cli login"
      ],
      "metadata": {
        "id": "zJ33YlrrhDLL"
      },
      "execution_count": null,
      "outputs": []
    },
    {
      "cell_type": "markdown",
      "source": [
        "# 分块"
      ],
      "metadata": {
        "id": "_eGAarvZeNhG"
      }
    },
    {
      "cell_type": "code",
      "execution_count": null,
      "metadata": {
        "id": "bXwSSrcleHuJ"
      },
      "outputs": [],
      "source": [
        "from datasets import load_dataset\n",
        "\n",
        "def sliding_window_split(text, block_size=4000, overlap=1000):\n",
        "    \"\"\"\n",
        "    将文本分割成滑动窗口块。\n",
        "\n",
        "    参数:\n",
        "    text (str): 要分割的文本。\n",
        "    block_size (int): 每个块的字符数。\n",
        "    overlap (int): 块之间的重叠字符数。\n",
        "\n",
        "    返回:\n",
        "    list: 文本块的列表。\n",
        "    \"\"\"\n",
        "    chunks = []\n",
        "    start = 0\n",
        "    while start < len(text):\n",
        "        # 如果不是第一个块，就移动一部分以保证重叠\n",
        "        if start > 0:\n",
        "            start -= overlap\n",
        "        end = start + block_size\n",
        "        chunks.append(text[start:end])\n",
        "        start = end\n",
        "    return chunks\n",
        "\n",
        "# 加载或创建数据集\n",
        "dataset = load_dataset('xxxx')\n",
        "\n",
        "# 应用滑动窗口分块\n",
        "chunked_dataset = dataset.map(lambda x: {'text': x['text'],'meta':x['meta'], 'chunks': sliding_window_split(x['text'])})\n",
        "\n",
        "# 显示分块结果的示例\n",
        "print(len(chunked_dataset['train'][0]['chunks'][1]))  # 显示第一个文本项的分块结果\n"
      ]
    },
    {
      "cell_type": "code",
      "source": [
        "chunked_dataset.push_to_hub(\"\", private=True)"
      ],
      "metadata": {
        "id": "qsBRnMEHeszr"
      },
      "execution_count": null,
      "outputs": []
    },
    {
      "cell_type": "code",
      "source": [
        "#等等等等"
      ],
      "metadata": {
        "id": "a78q6dVJexRs"
      },
      "execution_count": null,
      "outputs": []
    },
    {
      "cell_type": "markdown",
      "source": [
        "# 提示词"
      ],
      "metadata": {
        "id": "3tKBOaGjezBc"
      }
    },
    {
      "cell_type": "code",
      "source": [
        "promptv6='''Analyze the text block from a mathematics book and extract content according to the following specifications:\n",
        "1. **Content to Include**: Only include theorems with clear proofs, and clear, explicit examples and exercises.\n",
        "2. **Problem*: Start with a brief description of the problem context, providing its background, such as \"This is a problem about abstract algebra, group theory, abelian groups.\". The problem should be as detailed as possible. Each problem must be completely self-contained, providing all the contextual information one needs to understand and solve the problem. Assume common math knowledge but ensure that any specific context variables or lemma, theorems to this problem are explicitly included. If a problem or solution refers to another theorem, use the full content of that theorem, avoiding phrases like 'theorem\\lemma\\example 3'.\n",
        "3. **Solution**: If and only if a problem has a clear and complete solution, include it in the solution field. Solutions should be provided in a step-by-step format, like\"Step1:...\\nStep2:...\", ensuring clarity and completeness. The solution should be as comprehensive as possible, containing all the background, details and computation that you can find in the context.\n",
        "4. **Exclusivity**: Include as much problems as you can find that meet these criteria and exclude any that do not.\n",
        "5. **Is or isnot Euclid Geometry**: If the problem is a Geometry problem, please output true in the 'isGeometry' field. Otherwise, output false. Remember both Geometry and not Geometry are welcome to output.\n",
        "6. Must not contain words like 'lemma3.1' or 'example3' or 'theorm2'. The reader won't understand it. Solutions should be provided in a step-by-step format\n",
        "\n",
        "Example of unexpected output:\n",
        "{\"problem\": \"Fill in the two similar calculations in the proof of Lemma 1.18.\", \"isGeometry\": false, \"solution\": \"null\", \"answer\": \"null\"} (The problem refer to a Lemma but don't use the full content of it, you must avoiding phrases like 'theorem\\lemma\\example 3')\n",
        "{\"problem\": \"Prove the inversion distance formula.\", \"isGeometry\": false, \"solution\": \"null\", \"answer\": \"null\"}(The problem refer to a formula but don't explain it in detail)\n",
        "{\"problem\": \"Problem 1.37 (BAMO 1999/2). Let $O=(0,0), A=(0, a)$, and $B=(0, b)$, where $0<a<b$ are reals. Let $\\Gamma$ be a circle with diameter $\\overline{A B}$ and let $P$ be any other point on $\\Gamma$. Line $P A$ meets the $x$-axis again at $Q$. Prove that $\\angle B Q P=\\angle B O P$.\", \"isGeometry\": true, \"solution\": \"null\", \"answer\": \"null\"}(must not contain phrase like Problem 1.37,solution must be step-by-step)\n",
        "\n",
        "Example of expected output:(please don't repeat it in your answer)\n",
        "{}\n",
        "{\"problem\": \"This is a problem about geometry, area of triangle. Prove that $m(A B C)=m(B C A)=m(C A B)$ and $m(A C B)=m(B A C)=m(C B A)$. \", \"isGeometry\": true, \"solution\": \"null\", \"answer\": \"null\"}\n",
        "{\"problem\": \"This is a basic arithmetic problem. If x + 2 = 4, what is x?\", \"isGeometry\": false, \"solution\": \"Step1: Subtracting 2 from both sides of the equation\\n Step2: We have x = 2.\", \"answer\": \"2\"}\n",
        "{\"problem\": \"This is a problem about number theory, prime numbers. Every even integer greater than 2 can be expressed as the sum of two primes. Proof:\", \"isGeometry\": false, \"solution\": \"null\", \"answer\": \"null\"}\n",
        "\n",
        "Return the extracted content in JSONL format, with each entry containing 'problem', 'isGeometry', 'solution', and 'answer' (if applicable). If no content meets these criteria above, return an empty JSONL line.\"\n",
        "Remember, You Must not use words like 'lemma3.1' or 'example3' or 'theorem2'. Output as much problems as you can find that meet these criteria.\n",
        "Text block:\n",
        "'''\n"
      ],
      "metadata": {
        "id": "SMtGBM1te1l2"
      },
      "execution_count": null,
      "outputs": []
    },
    {
      "cell_type": "markdown",
      "source": [
        "# 并发提取"
      ],
      "metadata": {
        "id": "OqFwpD2Ce8G7"
      }
    },
    {
      "cell_type": "code",
      "source": [
        "import openai\n",
        "openai.api_base = \"https://api.deepseek.com/\"\n",
        "d=load_dataset('----',split='train')\n",
        "\n",
        "class deepseekTask(OpenAITask):\n",
        "\n",
        "    def validate(self, completion:str):\n",
        "        '''\n",
        "        Check if generated completion fits your intend format.\n",
        "        Return: A bool value.\n",
        "        '''\n",
        "        return True\n",
        "\n",
        "    def postprocess(self, completion:str):\n",
        "        '''\n",
        "        Postprocess generated completion.\n",
        "        Return: Postprocess result in a pytho dict.\n",
        "        '''\n",
        "        # completion = completion.replace('LLAMA!', 'Oh my LLAMA!')\n",
        "        return {'genrated_output': completion}\n",
        "\n"
      ],
      "metadata": {
        "id": "9gewDzZSe-ai"
      },
      "execution_count": null,
      "outputs": []
    },
    {
      "cell_type": "code",
      "source": [
        "import random\n",
        "\n",
        "# 设置随机数的范围和数量\n",
        "range_start = 0\n",
        "range_end = 10000\n",
        "number_of_samples = 1000\n",
        "\n",
        "# 使用random.sample()函数随机选择1000个不重复的数字\n",
        "random_numbers = random.sample(range(range_start, range_end + 1), number_of_samples)\n",
        "\n",
        "print(random_numbers)\n",
        "messages_list = [\n",
        "    [\n",
        "        {\"role\": \"system\", \"content\": \"You are a helpful assistant expert in MATH.\"},\n",
        "        {\"role\": \"user\", \"content\": generate_prompt(i)},\n",
        "         ] for i in random_numbers]\n",
        "\n",
        "tasks = [deepseekTask(id = i,\n",
        "                    messages=messages,\n",
        "                    generation_config=generation_config,\n",
        "                    model=model,\n",
        "                    api_key=api_key)\n",
        "                    for i, messages in enumerate(messages_list)][:500]\n"
      ],
      "metadata": {
        "id": "q4CId0ZFgd9T"
      },
      "execution_count": null,
      "outputs": []
    },
    {
      "cell_type": "code",
      "source": [
        "import json\n",
        "\n",
        "def append_to_jsonl(file_path, idx, output):\n",
        "    \"\"\"Append task output to a JSONL file.\"\"\"\n",
        "    data = {\"id\": random_numbers[idx], \"ori_problem\":similar[random_numbers[idx]][\"problem_ta\"],\"output\": output}\n",
        "    with open(file_path, 'a') as file:  # 打开文件用于追加内容\n",
        "        json.dump(data, file)  # 将字典转换为 JSON 字符串并写入文件\n",
        "        file.write('\\n')  # 写入换行符以保持 JSONL 格式"
      ],
      "metadata": {
        "id": "jeDo4sxogv-7"
      },
      "execution_count": null,
      "outputs": []
    },
    {
      "cell_type": "code",
      "source": [
        "from ptcompletion import TaskQueue\n",
        "tq = TaskQueue(requests_per_minute=200, max_rounds=3, max_requests_per_proc=16, log_file='tasks_1000.log')\n",
        "for i in range(12):\n",
        "  completed_tasks = tq.start(tasks[i*500:(i+1)*500])\n",
        "  for idx, t in enumerate(completed_tasks):\n",
        "    append_to_jsonl('/content/drive/MyDrive/A.jsonl', idx+i*500, t.result['genrated_output'])\n",
        "del completed_tasks"
      ],
      "metadata": {
        "id": "pHyXxpR2f9YQ"
      },
      "execution_count": null,
      "outputs": []
    }
  ]
}