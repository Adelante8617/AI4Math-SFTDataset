{
 "cells": [
  {
   "cell_type": "markdown",
   "metadata": {},
   "source": [
    "# A demo \n",
    "Experiments about converting QA into CoT type\n",
    "\n",
    "We want to use `meta-llama/Meta-Llama-3.1-8B-Instruct-Turbo` as the converter."
   ]
  },
  {
   "cell_type": "code",
   "execution_count": null,
   "metadata": {},
   "outputs": [],
   "source": [
    "!pip install together"
   ]
  },
  {
   "cell_type": "code",
   "execution_count": 9,
   "metadata": {},
   "outputs": [
    {
     "name": "stdout",
     "output_type": "stream",
     "text": [
      "我将向你展示一段数学问题的解答，你需要将其分解为每个步骤，按点列出。注意，你需要从原文中摘抄，但不要自行概括每个步骤的内容。\n",
      "格式如下：\n",
      "1. 步骤1 ；\n",
      "2. 步骤2 \n",
      "…… \n",
      "n. 步骤n  \n",
      "\n",
      "解答如下：\n",
      "用条件 \\( \\left( {a}_{1}\\right) \\) 可得 \\[ \\left( {f * {\\mathcal{K}}_{r}}\\right) \\left( x\\right) - f\\left( x\\right) \\] \\[ = {\\int }_{-\\pi }^{\\pi }{\\mathcal{K}}_{r}\\left( t\\right) \\left\\lbrack {f\\left( {x - t}\\right) - f\\left( x\\right) }\\right\\rbrack \\mathrm{d}t \\] \\[ = {\\int }_{\\left| t\\right| 0,可以取到 \\( delta > 0,使当 \\( left| t right| < delta时 \\[ left\\{ int_{-pi}^{pi} left| f (x - t)-f (x ) right|^{p} mathrm{\\;d}x right\\}^{1/p}<epsilon. \\]取定此 \\( delta为 (1.27 )式中的 \\( delta.用广义 Minkowski不等式推得 \\[ begin{{Vmatrix}{I}_{1}end{{Vmatrix}} _{p}= left\\{ int_{-pi}^{pi} left| int_{ left| t right|<delta}{mathcal K}_{ r }(t ) leftlbrack f (x-t)-f (x ) right rbrack mathrm{\\;d}t right|^{p} mathrm{\\;d}x right\\}^{1/p}. \\] \\[ leq int_{ left| t right|<delta} left| {{mathcal K}_{ r }(t )} right| left\\{ int_{-pi}^{pi} left| f (x-t)-f (x ) right|^{p} mathrm{\\;d}x right\\}^{1/p} mathrm{\\;d}t. \\] \\[ leq Cepsilontext{.} \\]类似地可推得 \\[ begin{{Vmatrix}{I}_{2}}end{{Vmatrix}} _{p}<= int_{ delta<= left| t right|<=\\pi } left| {{mathcal K}_{ r }(t )} right| left\\{ int_{-pi}^{pi } left| f (x-t)-f (x ) right|^{p } mathrm{\\;d }x right\\}^{1/p } mathrm{\\;d }t. \\] \\[ leq 2parallel f parallel _{ p } int_{ delta<= left | t right |<=\\ pi } left | {{mathcal K }_{ r }(t )} right | mathrm{\\;d }t. \\]由条件 \\( ({mathrm c }_{ 1 })可知上式右端趋向于零,而由 Minkowski不等式得 \\[ parallel f * mathcal K ,-f parallel _{ p } leq begin{{Vmatrix}{I }_{ 1 }}end{{Vmatrix}} _{ p }+ begin{{Vmatrix}{I }_{ 2 }}end{{Vmatrix}} _{ p }. \\]因此由以上讨论便得定理结论.\n",
      "\n"
     ]
    }
   ],
   "source": [
    "prompt = \"\"\n",
    "\n",
    "prompt_path = \"../../Demo/Answer2CoT/CHN-Prompt.txt\"\n",
    "with open(file=prompt_path) as f:\n",
    "    prompt = f.read()\n",
    "\n",
    "qa_textblock = \"\"\n",
    "\n",
    "qa_path = \"../../Demo/Answer2CoT/CHN-ShortAns.txt\"\n",
    "with open(file=qa_path) as f:\n",
    "    qa_textblock = f.read()\n",
    "\n",
    "input_qa = prompt + qa_textblock\n",
    "\n",
    "print(input_qa)"
   ]
  },
  {
   "cell_type": "code",
   "execution_count": 15,
   "metadata": {},
   "outputs": [
    {
     "name": "stdout",
     "output_type": "stream",
     "text": [
      "1. 用条件 \\( \\left( {a}_{1}\\right) \\) 可得 \\[ \\left( {f * {\\mathcal{K}}_{r}}\\right) \\left( x\\right) - f\\left( x\\right) \\] \\[ = {\\int }_{-\\pi }^{\\pi }{\\mathcal{K}}_{r}\\left( t\\right) \\left\\lbrack {f\\left( {x - t}\\right) - f\\left( x\\right) }\\right\\rbrack \\mathrm{d}t \\] \\[ = {\\int }_{\\left| t\\right| 0,可以取到 \\( delta > 0,使当 \\( left| t right| < delta时 \\[ left\\{ int_{-pi}^{pi} left| f (x - t)-f (x ) right|^{p} mathrm{\\;d}x right\\}^{1/p}<epsilon. \\]\n",
      "2. 取定此 \\( delta为 (1.27 )式中的 \\( delta.用广义 Minkowski不等式推得 \\[ begin{{Vmatrix}{I}_{1}end{{Vmatrix}} _{p}= left\\{ int_{-pi}^{pi} left| int_{ left| t right|<delta}{mathcal K}_{ r }(t ) leftlbrack f (x-t)-f (x ) right rbrack mathrm{\\;d}t right|^{p} mathrm{\\;d}x right\\}^{1/p}. \\]\n",
      "3. \\[ leq int_{ left| t right|<delta} left| {{mathcal K}_{ r }(t )} right| left\\{ int_{-pi}^{pi} left| f (x-t)-f (x ) right|^{p} mathrm{\\;d}x right\\}^{1/p} mathrm{\\;d}t. \\]\n",
      "4. \\[ leq Cepsilontext{.} \\]\n",
      "5. 类似地可推得 \\[ begin{{Vmatrix}{I}_{2}}end{{Vmatrix}} _{p}<= int_{ delta<= left| t right|<=\\pi } left| {{mathcal K}_{ r }(t )} right| left\\{ int_{-pi}^{pi } left| f (x-t)-f (x ) right|^{p } mathrm{\\;d }x right\\}^{1/p } mathrm{\\;d }t. \\]\n",
      "6. \\[ leq 2parallel f parallel _{ p } int_{ delta<= left | t right |<=\\ pi } left | {{mathcal K }_{ r }(t )} right | mathrm{\\;d }t. \\]\n",
      "7. 由条件 \\( ({mathrm c }_{ 1 })可知上式右端趋向于零,而由 Minkowski不等式得 \\[ parallel f * mathcal K ,-f parallel _{ p } leq begin{{Vmatrix}{I }_{ 1 }}end{{Vmatrix}} _{ p }+ begin{{Vmatrix}{I }_{ 2 }}end{{Vmatrix}} _{ p }. \\]\n",
      "8. 因此由以上讨论便得定理结论.\n"
     ]
    }
   ],
   "source": [
    "import os\n",
    "from together import Together\n",
    "\n",
    "client = Together(api_key=\"YOUR API KEY\")\n",
    "\n",
    "response = client.chat.completions.create(\n",
    "    model=\"meta-llama/Meta-Llama-3.1-8B-Instruct-Turbo\",\n",
    "    messages=[\n",
    "        {\n",
    "                \"role\": \"user\",\n",
    "                \"content\": input_qa\n",
    "        }\n",
    "    ],\n",
    "    max_tokens=8192,\n",
    "    temperature=0.01,\n",
    "    top_p=0.7,\n",
    "    top_k=50,\n",
    "    repetition_penalty=1,\n",
    "    stop=[\"<|eot_id|>\"],\n",
    "    stream=True\n",
    ")\n",
    "\n",
    "CoT_result = \"\"\n",
    "for chunk in response:\n",
    "    CoT_result += chunk.choices[0].text\n",
    "\n",
    "print(CoT_result)\n"
   ]
  },
  {
   "cell_type": "code",
   "execution_count": null,
   "metadata": {},
   "outputs": [],
   "source": []
  }
 ],
 "metadata": {
  "kernelspec": {
   "display_name": "base",
   "language": "python",
   "name": "python3"
  },
  "language_info": {
   "codemirror_mode": {
    "name": "ipython",
    "version": 3
   },
   "file_extension": ".py",
   "mimetype": "text/x-python",
   "name": "python",
   "nbconvert_exporter": "python",
   "pygments_lexer": "ipython3",
   "version": "3.11.5"
  }
 },
 "nbformat": 4,
 "nbformat_minor": 2
}
